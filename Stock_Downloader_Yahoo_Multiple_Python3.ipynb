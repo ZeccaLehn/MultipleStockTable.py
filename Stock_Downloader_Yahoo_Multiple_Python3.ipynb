{
 "cells": [
  {
   "cell_type": "markdown",
   "metadata": {},
   "source": [
    "## YahooStocks Multiple Security Downloader"
   ]
  },
  {
   "cell_type": "code",
   "execution_count": 54,
   "metadata": {
    "collapsed": false
   },
   "outputs": [
    {
     "name": "stdout",
     "output_type": "stream",
     "text": [
      "GOOG : No data for ticker exists in the given date range\n",
      "C :  http://real-chart.finance.yahoo.com/table.csv?s=C&a=01&b=1&c=1990&d=01&e=1&f=2000&g=w&ignore=.csv\n",
      "F :  http://real-chart.finance.yahoo.com/table.csv?s=F&a=01&b=1&c=1990&d=01&e=1&f=2000&g=w&ignore=.csv\n",
      "MSFT :  http://real-chart.finance.yahoo.com/table.csv?s=MSFT&a=01&b=1&c=1990&d=01&e=1&f=2000&g=w&ignore=.csv\n",
      "\n",
      "fullData Dates range from:  1990-02-01  to  2000-01-31\n",
      "fullDataClean Dates range from:  1990-02-01  to  2000-01-31\n",
      "\n"
     ]
    }
   ],
   "source": [
    "# Stock Downloader Yahoo In-Memory / Python 3\n",
    "def YahooStocks(tickers = [\"MSFT\", \"FB\"], freq = \"d\", selectColumn = \"AdjClose\", fromDate = None, toDate = None):\n",
    "    \n",
    "    \"\"\"\n",
    "    NOTES:\n",
    "    tickers = Defaults to [\"MSFT\",\"FB\"], and uses a list as input\n",
    "    freq = Defaults to \"d\" (Note: Can be \"d\"[daily],\"m\"[monthly],\"q\"[quarterly], or \"v\"[dividends])\n",
    "    selectColumn = Defaults to \"AdjClose\". Can choose between \"Open\", \"High\", \"Low\", \"Close\", \"Volume\" or \"AdjClose\".\n",
    "    fromDate: Defaults to 1yr lag. Must include YYYY/MM/DD or YYYY-MM-DD string as format.\n",
    "    toDate: Defaults to 1yr lag. Must include YYYY/MM/DD or YYYY-MM-DD string as format.\n",
    "    \n",
    "    \"\"\"\n",
    "    import pandas as pd\n",
    "    import datetime\n",
    "    # For downloader\n",
    "    import urllib.request\n",
    "    import io\n",
    "    import urllib.error\n",
    "    \n",
    "    stackData = pd.DataFrame()\n",
    "    fullData = pd.DataFrame()\n",
    "    fullDataClean = pd.DataFrame()\n",
    "    \n",
    "    for ticker in tickers:\n",
    "        \n",
    "        data = pd.DataFrame() \n",
    "        fromDateInternal = pd.DataFrame() \n",
    "        toDateInternal = pd.DataFrame()\n",
    "        tickersNarrow = pd.DataFrame()\n",
    "\n",
    "        url = []\n",
    "        xld = []\n",
    "        xlds = []\n",
    "\n",
    "\n",
    "        if fromDate is None:\n",
    "\n",
    "            toDateInternal = datetime.datetime.now()\n",
    "            fromDateInternal = toDateInternal - datetime.timedelta(days=360)\n",
    "\n",
    "            toDateInternal  = str(toDateInternal.date())\n",
    "            toDateInternal = toDateInternal.replace('-', '/')\n",
    "            toDateInternal = pd.to_datetime(toDateInternal, format = \"%Y/%m/%d\").date()\n",
    "\n",
    "\n",
    "            fromDateInternal  = str(fromDateInternal.date())\n",
    "            fromDateInternal = fromDateInternal.replace('-', '/')\n",
    "            fromDateInternal = pd.to_datetime(fromDateInternal, format = \"%Y/%m/%d\").date()\n",
    "\n",
    "        else:\n",
    "            \n",
    "\n",
    "            fromDateInternal = fromDate\n",
    "            fromDateInternal = fromDateInternal.replace('-', '/')\n",
    "            fromDateInternal = datetime.datetime.strptime(fromDateInternal, \"%Y/%m/%d\").date()\n",
    "\n",
    "\n",
    "            if toDate == None: \n",
    "                toDateInternal = str(datetime.datetime.now().date())\n",
    "                toDateInternal = toDateInternal.replace('-', '/')\n",
    "                toDateInternal = datetime.datetime.strptime(toDateInternal, \"%Y/%m/%d\").date()\n",
    "\n",
    "            else:\n",
    "                toDateInternal  = str(toDate)\n",
    "                toDateInternal = toDateInternal.replace('-', '/')\n",
    "                toDateInternal = datetime.datetime.strptime(toDateInternal, \"%Y/%m/%d\").date()\n",
    "\n",
    "        #print(fromDateInternal)\n",
    "        #print(toDateInternal)\n",
    "        \n",
    "        # Downloader\n",
    "        url = \"http://real-chart.finance.yahoo.com/table.csv?s=\" + ticker + \"&a=0\" + str(fromDateInternal.month) + \"&b=\" + \\\n",
    "            str(fromDateInternal.day) + \"&c=\" + str(fromDateInternal.year) + \"&d=0\" + str(toDateInternal.month) + \"&e=\"  +  \\\n",
    "                str(toDateInternal.day) + \"&f=\" +  str(toDateInternal.year) + \"&g=\" + freq + \"&ignore=.csv\"\n",
    "\n",
    "        #Checks if 404 error from no data in ticker\n",
    "        try:\n",
    "            \n",
    "            # Download and read in as csv from memory\n",
    "            xld = urllib.request.urlopen(url).read()\n",
    "            xld = xld.decode('utf-8')\n",
    "            xlds = io.StringIO(xld)\n",
    "            data = pd.read_csv(xlds, delimiter=',', header=None, skiprows=1)\n",
    "            xlds.close()\n",
    "            \n",
    "            data.columns = [\"Date\", \"Open\", \"High\", \"Low\", \"Close\", \"Volume\", \"AdjClose\"]\n",
    "\n",
    "            data['Date'] = pd.to_datetime(data['Date'], format = \"%Y-%m-%d\")\n",
    "            data[[\"Open\", \"High\", \"Low\", \"Close\", \"Volume\", \"AdjClose\"]] = data[[\"Open\", \"High\", \"Low\", \"Close\", \"Volume\", \"AdjClose\"]].astype(float)\n",
    "            data[\"Security\"] = ticker\n",
    "\n",
    "            stackData = pd.concat([stackData, data])\n",
    "            \n",
    "            print(ticker, \": \", url)\n",
    "\n",
    "            \n",
    "        except urllib.error.HTTPError as err:\n",
    "            print(ticker, \": No data for ticker exists in the given date range\")\n",
    "            if err.code == 404:\n",
    "                continue\n",
    "            else:\n",
    "                raise\n",
    "                \n",
    "    ## Find all dates and create index\n",
    "    # Returns all dates among used ticker data\n",
    "    uniqueDates = stackData.Date.map(lambda t: t.date()).unique()\n",
    "    uniqueDates = pd.DataFrame(uniqueDates, columns = ['Date'] ).sort_values(by = \"Date\", ascending = [0])\n",
    "    uniqueDates['Date'] = pd.to_datetime(uniqueDates['Date'], format = \"%Y-%m-%d\")\n",
    "\n",
    "    fullData = uniqueDates\n",
    "    \n",
    "    tickersNarrow = stackData.Security.unique() # Find usable tickers\n",
    "    \n",
    "    ## Loop through each ticker\n",
    "    for ticker in tickersNarrow:\n",
    "        fullData = pd.merge(fullData, stackData[stackData.Security==ticker][['Date',selectColumn]], on = \"Date\", how = 'left')\n",
    "        fullData.rename(columns={selectColumn:(ticker + \"_\" + selectColumn)}, inplace = True)\n",
    "        \n",
    "        \n",
    "    # Drop any rows with NaN\n",
    "    fullDataClean = fullData.dropna()\n",
    "    \n",
    "    print()\n",
    "    print( \"fullData Dates range from: \", min(fullData.Date).date(), \" to \", max(fullData.Date).date() )\n",
    "    print( \"fullDataClean Dates range from: \", min(fullDataClean.Date).date(), \" to \", max(fullDataClean.Date).date() )\n",
    "    print()\n",
    "\n",
    "    return fullData, fullDataClean, stackData\n",
    "\n",
    "\n",
    "#     tickers = Defaults to [\"MSFT\",\"FB\"], and uses a list as input\n",
    "#     freq = Defaults to \"d\" (Note: Can be \"d\"[daily],\"m\"[monthly],\"q\"[quarterly], or \"v\"[dividends])\n",
    "#     selectColumn = Defaults to \"AdjClose\". Can choose between \"Open\", \"High\", \"Low\", \"Close\", \"Volume\" or \"AdjClose\".\n",
    "#     fromDate: Defaults to 1yr lag. Must include YYYY/MM/DD or YYYY-MM-DD string as format.\n",
    "#     toDate: Defaults to 1yr lag. Must include YYYY/MM/DD or YYYY-MM-DD string as format.\n",
    "\n",
    "tickers = ['GOOG','C',\"F\", \"MSFT\"]\n",
    "fullData, fullDataClean, stackData = YahooStocks(tickers, freq = \"w\", selectColumn = \"AdjClose\", fromDate = \"1990/01/01\", toDate = \"2000/01/01\")"
   ]
  },
  {
   "cell_type": "code",
   "execution_count": 55,
   "metadata": {
    "collapsed": false
   },
   "outputs": [
    {
     "data": {
      "text/html": [
       "<div>\n",
       "<table border=\"1\" class=\"dataframe\">\n",
       "  <thead>\n",
       "    <tr style=\"text-align: right;\">\n",
       "      <th></th>\n",
       "      <th>Date</th>\n",
       "      <th>C_AdjClose</th>\n",
       "      <th>F_AdjClose</th>\n",
       "      <th>MSFT_AdjClose</th>\n",
       "    </tr>\n",
       "  </thead>\n",
       "  <tbody>\n",
       "    <tr>\n",
       "      <th>0</th>\n",
       "      <td>2000-01-31</td>\n",
       "      <td>304.989532</td>\n",
       "      <td>18.271557</td>\n",
       "      <td>35.402775</td>\n",
       "    </tr>\n",
       "    <tr>\n",
       "      <th>1</th>\n",
       "      <td>2000-01-24</td>\n",
       "      <td>293.863312</td>\n",
       "      <td>17.973522</td>\n",
       "      <td>33.790627</td>\n",
       "    </tr>\n",
       "    <tr>\n",
       "      <th>2</th>\n",
       "      <td>2000-01-18</td>\n",
       "      <td>295.499512</td>\n",
       "      <td>18.315569</td>\n",
       "      <td>35.682213</td>\n",
       "    </tr>\n",
       "    <tr>\n",
       "      <th>3</th>\n",
       "      <td>2000-01-10</td>\n",
       "      <td>303.680573</td>\n",
       "      <td>18.792185</td>\n",
       "      <td>38.605576</td>\n",
       "    </tr>\n",
       "    <tr>\n",
       "      <th>4</th>\n",
       "      <td>2000-01-03</td>\n",
       "      <td>282.737091</td>\n",
       "      <td>19.836193</td>\n",
       "      <td>38.326134</td>\n",
       "    </tr>\n",
       "  </tbody>\n",
       "</table>\n",
       "</div>"
      ],
      "text/plain": [
       "        Date  C_AdjClose  F_AdjClose  MSFT_AdjClose\n",
       "0 2000-01-31  304.989532   18.271557      35.402775\n",
       "1 2000-01-24  293.863312   17.973522      33.790627\n",
       "2 2000-01-18  295.499512   18.315569      35.682213\n",
       "3 2000-01-10  303.680573   18.792185      38.605576\n",
       "4 2000-01-03  282.737091   19.836193      38.326134"
      ]
     },
     "execution_count": 55,
     "metadata": {},
     "output_type": "execute_result"
    }
   ],
   "source": [
    "fullDataClean.head()"
   ]
  },
  {
   "cell_type": "code",
   "execution_count": 56,
   "metadata": {
    "collapsed": false
   },
   "outputs": [
    {
     "data": {
      "text/html": [
       "<div>\n",
       "<table border=\"1\" class=\"dataframe\">\n",
       "  <thead>\n",
       "    <tr style=\"text-align: right;\">\n",
       "      <th></th>\n",
       "      <th>Date</th>\n",
       "      <th>C_AdjClose</th>\n",
       "      <th>F_AdjClose</th>\n",
       "      <th>MSFT_AdjClose</th>\n",
       "    </tr>\n",
       "  </thead>\n",
       "  <tbody>\n",
       "    <tr>\n",
       "      <th>518</th>\n",
       "      <td>1990-02-26</td>\n",
       "      <td>13.616355</td>\n",
       "      <td>3.711868</td>\n",
       "      <td>0.495589</td>\n",
       "    </tr>\n",
       "    <tr>\n",
       "      <th>519</th>\n",
       "      <td>1990-02-20</td>\n",
       "      <td>13.046368</td>\n",
       "      <td>3.524798</td>\n",
       "      <td>0.465729</td>\n",
       "    </tr>\n",
       "    <tr>\n",
       "      <th>520</th>\n",
       "      <td>1990-02-12</td>\n",
       "      <td>13.553027</td>\n",
       "      <td>3.495260</td>\n",
       "      <td>0.468123</td>\n",
       "    </tr>\n",
       "    <tr>\n",
       "      <th>521</th>\n",
       "      <td>1990-02-05</td>\n",
       "      <td>13.616355</td>\n",
       "      <td>3.465727</td>\n",
       "      <td>0.451401</td>\n",
       "    </tr>\n",
       "    <tr>\n",
       "      <th>522</th>\n",
       "      <td>1990-02-01</td>\n",
       "      <td>13.679689</td>\n",
       "      <td>3.396805</td>\n",
       "      <td>0.447818</td>\n",
       "    </tr>\n",
       "  </tbody>\n",
       "</table>\n",
       "</div>"
      ],
      "text/plain": [
       "          Date  C_AdjClose  F_AdjClose  MSFT_AdjClose\n",
       "518 1990-02-26   13.616355    3.711868       0.495589\n",
       "519 1990-02-20   13.046368    3.524798       0.465729\n",
       "520 1990-02-12   13.553027    3.495260       0.468123\n",
       "521 1990-02-05   13.616355    3.465727       0.451401\n",
       "522 1990-02-01   13.679689    3.396805       0.447818"
      ]
     },
     "execution_count": 56,
     "metadata": {},
     "output_type": "execute_result"
    }
   ],
   "source": [
    "fullDataClean.tail()"
   ]
  },
  {
   "cell_type": "markdown",
   "metadata": {},
   "source": [
    "## Plot Multiline Data"
   ]
  },
  {
   "cell_type": "code",
   "execution_count": 28,
   "metadata": {
    "collapsed": false
   },
   "outputs": [
    {
     "data": {
      "text/plain": [
       "<matplotlib.axes._subplots.AxesSubplot at 0x25cde5bd1d0>"
      ]
     },
     "execution_count": 28,
     "metadata": {},
     "output_type": "execute_result"
    },
    {
     "data": {
      "text/plain": [
       "<matplotlib.figure.Figure at 0x25cde6e89e8>"
      ]
     },
     "metadata": {},
     "output_type": "display_data"
    },
    {
     "data": {
      "image/png": "[encoded data removed]",
      "text/plain": [
       "<matplotlib.figure.Figure at 0x25cde6fb9e8>"
      ]
     },
     "metadata": {},
     "output_type": "display_data"
    }
   ],
   "source": [
    "import pandas as pd \n",
    "import matplotlib.pyplot as plt\n",
    "import matplotlib.figure \n",
    "%matplotlib inline\n",
    "\n",
    "plt.figure(num=1, figsize=(20, 20))\n",
    "\n",
    "# Nominal Prices\n",
    "fullDataClean.plot(x = 'Date')"
   ]
  },
  {
   "cell_type": "code",
   "execution_count": 26,
   "metadata": {
    "collapsed": false
   },
   "outputs": [
    {
     "data": {
      "text/plain": [
       "<matplotlib.axes._subplots.AxesSubplot at 0x25ce015d9e8>"
      ]
     },
     "execution_count": 26,
     "metadata": {},
     "output_type": "execute_result"
    },
    {
     "data": {
      "image/png": "[encoded data removed]",
      "text/plain": [
       "<matplotlib.figure.Figure at 0x25cde6c8860>"
      ]
     },
     "metadata": {},
     "output_type": "display_data"
    }
   ],
   "source": [
    "# Ln Prices (Easier to view in tandem)\n",
    "fullDataClean.plot(x = 'Date', loglog = True)"
   ]
  },
  {
   "cell_type": "code",
   "execution_count": 30,
   "metadata": {
    "collapsed": false
   },
   "outputs": [],
   "source": [
    "# Write to XLSX \n",
    "writer = pd.ExcelWriter('MultipleSecurities.xlsx')\n",
    "fullDataClean.to_excel(writer,'fullDataClean')\n",
    "fullData.to_excel(writer,'fullData')\n",
    "stackData.to_excel(writer,'stackData')\n",
    "writer.save()"
   ]
  }
 ],
 "metadata": {
  "kernelspec": {
   "display_name": "Python 3",
   "language": "python",
   "name": "python3"
  },
  "language_info": {
   "codemirror_mode": {
    "name": "ipython",
    "version": 3
   },
   "file_extension": ".py",
   "mimetype": "text/x-python",
   "name": "python",
   "nbconvert_exporter": "python",
   "pygments_lexer": "ipython3",
   "version": "3.5.1"
  }
 },
 "nbformat": 4,
 "nbformat_minor": 0
}
